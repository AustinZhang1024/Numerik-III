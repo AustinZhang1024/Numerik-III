{
 "cells": [
  {
   "cell_type": "code",
   "execution_count": null,
   "id": "af3998ff",
   "metadata": {},
   "outputs": [],
   "source": [
    "import numpy as np\n",
    "from scipy.sparse import coo_matrix\n",
    "from scipy.sparse.linalg import spsolve"
   ]
  },
  {
   "cell_type": "code",
   "execution_count": null,
   "id": "25d522c8",
   "metadata": {},
   "outputs": [],
   "source": [
    "def get_indexs(i: int, j: int, n: int) -> int:\n",
    "    \"\"\"Returns the indices of the vector $u$.\"\"\"\n",
    "    nodes_per_row = 2**n + 1\n",
    "\n",
    "    return i * nodes_per_row + j"
   ]
  },
  {
   "cell_type": "code",
   "execution_count": null,
   "id": "a2a5b411",
   "metadata": {},
   "outputs": [],
   "source": [
    "def vec_b(n: int) -> np.floating:\n",
    "    \"\"\"Returns the value of the right-hand side vector $b$.\"\"\"\n",
    "    h = np.float_power(2, -n)\n",
    "    nodes_per_row = 2**n + 1\n",
    "\n",
    "    def inner_f(x: np.floating, y: np.floating) -> np.floating:\n",
    "        return (\n",
    "            12 * np.power(x, 2) * np.power(y, 5)\n",
    "            + 17 * (x**2 + y**2) * np.sin(x * y)\n",
    "            + 20 * np.power(x, 4) * np.power(y, 3)\n",
    "        ) * h**2\n",
    "\n",
    "    b_ls = np.zeros(nodes_per_row**2)\n",
    "\n",
    "    for i in range(nodes_per_row):\n",
    "        for j in range(nodes_per_row):\n",
    "            idx = get_indexs(i, j, n)\n",
    "            if i == 0 or j == 0:\n",
    "                b_ls[idx] = 0\n",
    "            elif i == nodes_per_row - 1:\n",
    "                y = j * h\n",
    "                b_ls[idx] = np.power(y, 5) - 17 * np.sin(y)\n",
    "            elif j == nodes_per_row - 1:\n",
    "                x = i * h\n",
    "                b_ls[idx] = np.power(x, 4) - 17 * np.sin(x)\n",
    "            else:\n",
    "                x = i * h\n",
    "                y = j * h\n",
    "                b_ls[idx] = inner_f(x, y)\n",
    "\n",
    "    b_ls = np.reshape(b_ls, (nodes_per_row**2, 1))\n",
    "\n",
    "    if b_ls.shape != (nodes_per_row**2, 1):\n",
    "        shape_err = ValueError(\"The shape of b is not correct.\")\n",
    "        raise shape_err\n",
    "    return b_ls"
   ]
  },
  {
   "cell_type": "markdown",
   "id": "2e736b39",
   "metadata": {},
   "source": [
    "Create the matrix in sparse format"
   ]
  },
  {
   "cell_type": "code",
   "execution_count": null,
   "id": "2e61fc93",
   "metadata": {},
   "outputs": [],
   "source": [
    "def mat_A(n: int) -> coo_matrix:\n",
    "    \"\"\"Returns the value of the matrix $A$.\"\"\"\n",
    "    nodes_per_row = 2**n + 1\n",
    "    row = np.array([])\n",
    "    col = np.array([])\n",
    "    A_ls = np.array([])\n",
    "\n",
    "    for i in range(nodes_per_row):\n",
    "        for j in range(nodes_per_row):\n",
    "            idx = get_indexs(i, j, n)\n",
    "            if i == 0 or j == 0 or i == nodes_per_row - 1 or j == nodes_per_row - 1:\n",
    "                row = np.append(row, idx)\n",
    "                col = np.append(col, idx)\n",
    "                A_ls = np.append(A_ls, 1)\n",
    "            else:\n",
    "                row = np.append(row, idx)\n",
    "                col = np.append(col, idx)\n",
    "                A_ls = np.append(A_ls, -4)\n",
    "                for idx_ in [\n",
    "                    get_indexs(i - 1, j, n),\n",
    "                    get_indexs(i + 1, j, n),\n",
    "                    get_indexs(i, j - 1, n),\n",
    "                    get_indexs(i, j + 1, n),\n",
    "                ]:\n",
    "                    row = np.append(row, idx)\n",
    "                    col = np.append(col, idx_)\n",
    "                    A_ls = np.append(A_ls, 1)\n",
    "\n",
    "    A = coo_matrix((A_ls, (row, col)), shape=(nodes_per_row**2, nodes_per_row**2))\n",
    "    if A.shape != (nodes_per_row**2, nodes_per_row**2):\n",
    "        shape_err = ValueError(\"The shape of A is not correct.\")\n",
    "        raise shape_err\n",
    "    return A"
   ]
  },
  {
   "cell_type": "code",
   "execution_count": null,
   "id": "a9dff275",
   "metadata": {},
   "outputs": [],
   "source": [
    "def vec_u(n: int) -> np.ndarray:\n",
    "    \"\"\"Returns the value of the real solution $u$.\"\"\"\n",
    "    nodes_per_row = 2**n + 1\n",
    "    u_ls = np.zeros(nodes_per_row**2)\n",
    "    h = np.float_power(2, -n)\n",
    "\n",
    "    for i in range(nodes_per_row):\n",
    "        for j in range(nodes_per_row):\n",
    "            idx = get_indexs(i, j, n)\n",
    "            x = i * h\n",
    "            y = j * h\n",
    "            u_ls[idx] = np.power(x, 4) * np.power(y, 5) - 17 * np.sin(x * y)\n",
    "\n",
    "    return u_ls"
   ]
  },
  {
   "cell_type": "code",
   "execution_count": null,
   "id": "c2ba915f",
   "metadata": {},
   "outputs": [],
   "source": [
    "norm_inf_ls = []\n",
    "norm_2_ls = []\n",
    "\n",
    "for n in range(2, 9):\n",
    "    A = mat_A(n).tocsc()\n",
    "    b = vec_b(n)\n",
    "    u = vec_u(n)\n",
    "    u_h = spsolve(A, b)\n",
    "\n",
    "    norm_inf = np.max(np.abs(u - u_h))\n",
    "    display(f\"n={n}, norm_inf={norm_inf}\")\n",
    "    norm_inf_ls.append(norm_inf)\n",
    "\n",
    "    norm_2 = np.linalg.norm(u - u_h, 2)\n",
    "    display(f\"n={n}, norm_2={norm_2}\")\n",
    "    norm_2_ls.append(norm_2)\n",
    "\n",
    "order_inf = np.log(norm_inf_ls[-2] / norm_inf_ls[-1]) / np.log(2)\n",
    "display(f\"order of convergence of inf norm: {order_inf}\")\n",
    "\n",
    "order_2 = np.log(norm_2_ls[-2] / norm_2_ls[-1]) / np.log(2)\n",
    "display(f\"order of convergence of 2 norm: {order_2}\")"
   ]
  }
 ],
 "metadata": {
  "kernelspec": {
   "display_name": "default",
   "language": "python",
   "name": "python3"
  },
  "language_info": {
   "codemirror_mode": {
    "name": "ipython",
    "version": 3
   },
   "file_extension": ".py",
   "mimetype": "text/x-python",
   "name": "python",
   "nbconvert_exporter": "python",
   "pygments_lexer": "ipython3",
   "version": "3.13.3"
  }
 },
 "nbformat": 4,
 "nbformat_minor": 5
}
