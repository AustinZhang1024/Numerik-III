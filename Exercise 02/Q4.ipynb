{
 "cells": [
  {
   "cell_type": "code",
   "execution_count": 48,
   "id": "af3998ff",
   "metadata": {},
   "outputs": [],
   "source": [
    "from scipy.sparse import coo_matrix\n",
    "import numpy as np"
   ]
  },
  {
   "cell_type": "code",
   "execution_count": 51,
   "id": "25d522c8",
   "metadata": {},
   "outputs": [],
   "source": [
    "def get_indexs(i: int, j: int, n: int) -> int:\n",
    "    \"\"\"\n",
    "    This function returns the indices of the vector $u$\n",
    "    \"\"\"\n",
    "    nodes_per_row = 2**n + 1\n",
    "\n",
    "    indices = i * nodes_per_row + j\n",
    "\n",
    "    return indices"
   ]
  },
  {
   "cell_type": "code",
   "execution_count": 52,
   "id": "a2a5b411",
   "metadata": {},
   "outputs": [],
   "source": [
    "def vec_b(n: int) -> np.floating:\n",
    "    \"\"\"\n",
    "    This function returns the value of the right-hand side vector $b$\n",
    "    \"\"\"\n",
    "    h = np.float_power(2, -n)\n",
    "    nodes_per_row = 2**n + 1\n",
    "\n",
    "    def inner_f(x, y):\n",
    "        return (\n",
    "            12 * np.power(x, 2) * np.power(y, 5)\n",
    "            + 17 * (x**2 + y**2) * np.sin(x * y)\n",
    "            + 20 * np.power(x, 4) * np.power(y, 3)\n",
    "        ) * h**2\n",
    "\n",
    "    b_ls = np.zeros(nodes_per_row**2)\n",
    "\n",
    "    for i in range(nodes_per_row):\n",
    "        for j in range(nodes_per_row):\n",
    "            idx = get_indexs(i, j, n)\n",
    "            if i == 0 or j == 0:\n",
    "                b_ls[idx] = 0\n",
    "            elif i == nodes_per_row - 1:\n",
    "                y = j * h\n",
    "                b_ls[idx] = np.power(y, 5) - 17 * np.sin(y)\n",
    "            elif j == nodes_per_row - 1:\n",
    "                x = i * h\n",
    "                b_ls[idx] = np.power(x, 4) - 17 * np.sin(x)\n",
    "            else:\n",
    "                x = i * h\n",
    "                y = j * h\n",
    "                b_ls[idx] = inner_f(x, y)\n",
    "\n",
    "    b_ls = np.reshape(b_ls, (nodes_per_row**2, 1))\n",
    "\n",
    "    assert b_ls.shape == (nodes_per_row**2, 1)\n",
    "    return b_ls"
   ]
  },
  {
   "cell_type": "code",
   "execution_count": 53,
   "id": "2e61fc93",
   "metadata": {},
   "outputs": [],
   "source": [
    "def mat_A(n: int) -> np.ndarray:\n",
    "    \"\"\"\n",
    "    This function returns the value of the matrix $A$\n",
    "    \"\"\"\n",
    "    nodes_per_row = 2**n + 1\n",
    "    row = np.array([])\n",
    "    col = np.array([])\n",
    "    A_ls = np.array([])\n",
    "\n",
    "    for i in range(nodes_per_row):\n",
    "        for j in range(nodes_per_row):\n",
    "            idx = get_indexs(i, j, n)\n",
    "            if i == 0 or j == 0 or i == nodes_per_row - 1 or j == nodes_per_row - 1:\n",
    "                row = np.append(row, idx)\n",
    "                col = np.append(col, idx)\n",
    "                A_ls = np.append(A_ls, 1)\n",
    "            else:\n",
    "                row = np.append(row, idx)\n",
    "                col = np.append(col, idx)\n",
    "                A_ls = np.append(A_ls, -4)\n",
    "                for idx_ in [\n",
    "                    get_indexs(i - 1, j, n),\n",
    "                    get_indexs(i + 1, j, n),\n",
    "                    get_indexs(i, j - 1, n),\n",
    "                    get_indexs(i, j + 1, n),\n",
    "                ]:\n",
    "                    row = np.append(row, idx)\n",
    "                    col = np.append(col, idx_)\n",
    "                    A_ls = np.append(A_ls, 1)\n",
    "\n",
    "    A = coo_matrix(\n",
    "        (A_ls, (row, col)), shape=(nodes_per_row**2, nodes_per_row**2)\n",
    "    )\n",
    "    assert A.shape == (nodes_per_row**2, nodes_per_row**2)\n",
    "    return A"
   ]
  },
  {
   "cell_type": "code",
   "execution_count": 54,
   "id": "02290afc",
   "metadata": {},
   "outputs": [
    {
     "data": {
      "text/plain": [
       "array([[ 1.,  0.,  0.,  0.,  0.,  0.,  0.,  0.,  0.],\n",
       "       [ 0.,  1.,  0.,  0.,  0.,  0.,  0.,  0.,  0.],\n",
       "       [ 0.,  0.,  1.,  0.,  0.,  0.,  0.,  0.,  0.],\n",
       "       [ 0.,  0.,  0.,  1.,  0.,  0.,  0.,  0.,  0.],\n",
       "       [ 0.,  1.,  0.,  1., -4.,  1.,  0.,  1.,  0.],\n",
       "       [ 0.,  0.,  0.,  0.,  0.,  1.,  0.,  0.,  0.],\n",
       "       [ 0.,  0.,  0.,  0.,  0.,  0.,  1.,  0.,  0.],\n",
       "       [ 0.,  0.,  0.,  0.,  0.,  0.,  0.,  1.,  0.],\n",
       "       [ 0.,  0.,  0.,  0.,  0.,  0.,  0.,  0.,  1.]])"
      ]
     },
     "execution_count": 54,
     "metadata": {},
     "output_type": "execute_result"
    }
   ],
   "source": [
    "mat_A(1).toarray()"
   ]
  },
  {
   "cell_type": "code",
   "execution_count": 55,
   "id": "f82451ef",
   "metadata": {},
   "outputs": [
    {
     "data": {
      "text/plain": [
       "array([[  0.        ],\n",
       "       [  0.        ],\n",
       "       [  0.        ],\n",
       "       [  0.        ],\n",
       "       [  0.58823341],\n",
       "       [ -8.08773416],\n",
       "       [  0.        ],\n",
       "       [ -8.11898416],\n",
       "       [-13.30500674]])"
      ]
     },
     "execution_count": 55,
     "metadata": {},
     "output_type": "execute_result"
    }
   ],
   "source": [
    "vec_b(1)"
   ]
  }
 ],
 "metadata": {
  "kernelspec": {
   "display_name": "default",
   "language": "python",
   "name": "python3"
  },
  "language_info": {
   "codemirror_mode": {
    "name": "ipython",
    "version": 3
   },
   "file_extension": ".py",
   "mimetype": "text/x-python",
   "name": "python",
   "nbconvert_exporter": "python",
   "pygments_lexer": "ipython3",
   "version": "3.13.3"
  }
 },
 "nbformat": 4,
 "nbformat_minor": 5
}
